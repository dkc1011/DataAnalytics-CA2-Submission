{
 "cells": [
  {
   "cell_type": "markdown",
   "metadata": {},
   "source": [
    "# Applying the Data Analysis Method to a Research Problem"
   ]
  },
  {
   "cell_type": "markdown",
   "metadata": {},
   "source": [
    "# 1. Predicting Video Game sales based upon Genre  <a class=\"anchor\" id=\"Businessunderstanding\"></a>\n"
   ]
  },
  {
   "cell_type": "markdown",
   "metadata": {},
   "source": [
    "## 1.1. Introduction <a class=\"anchor\" id=\"Introduction\"></a> \n",
    "\n",
    "This project investigates the relation between the abstract concept of Genre and the global market performance of a video game. A vast amount of research has been conducted previously exploring the hundreds of different factors pertaining to the success of a video game. The games development industry has become a financial juggernaut since the turn of the millenium, with the U.S industry alone bringing in 43.4 Billion US Dollars in revenue in 2018(Entertainment Software Association | U.S. Economic Growth, 2019). There are vast numbers of developers breaking into the industry every day, and with that, a vast wealth of games to choose from. This means that the ability to quickly predict what games will perform well in such a saturated market would be very useful for developers. Allowing such a prediction to be made based upon Genre alone would give developers a strong starting point when deciding which projects will have resources allocated.\n",
    "\n",
    "\"Consumer Perceptions & Video Game Sales: A Meeting of the Minds\" by John Sacranie takes an overarching look at all of the various determinants of video game sales which includes Genre. \"Vertical Integration, Exclusivity and Game Sales Performance in the U.S. Video Game Industry\" by Gil and Warzynski had a focus on manual regression that was extrmely useful when comparing the results of the findings of this project. Jeffrey Babb and Neil Terry's \"Comparing Video Game Sales by Gaming Platform\" takes a very direct approach such as that taken here, to see if such a complex issue can be reduced at least in part to one central point. \n",
    "    \n",
    "In this project, a multiple regression model was constructed and applied in an attempt to predict future game sales figures. Certain limits of the research possible were reached during the creation of the project. The singular focus of the question at hand and the focus on categorical data lead to anomolies in the final results, however the findings cannot be discounted. \n",
    " "
   ]
  },
  {
   "cell_type": "markdown",
   "metadata": {},
   "source": [
    "## 1.2. Background and Literature Review <a class=\"anchor\" id=\"Background\"></a>\n",
    "There was not a wealth of academic papers and books on this issue. Through extensive online searching utilizing google scholar and mendeley however, small number of relevent and useful texts were discovered.\n",
    "\n",
    "- \"COMPARING VIDEO GAME SALES BY GAMING PLATFORM\" by Jeffrey Babb and Neil Terry. This paper includes a similar research question to the one employed by this paper with an adjustment of subject matter. Babb and Terry's research lead them to suggest, as a 'future extension' to their work, a \"multiple regression model controlling for platform, genre, ESRB rating, publisher, critical reviews, and other potential determinants.\" (Babb and Terry, n.d., p.17). Further research into the authors and their works revealed that no such extension was ever produced. This may have been because the two authors were skeptical about the use of regression for their purpose, citing that they were exploring too many factors for a regressive approach to be immediately viable. (Babb and Terry, n.d., p.13)\n",
    "- \"Consumer Perceptions & Video Game Sales: A Meeting of the Minds\" by John Sacranie did not have the objective of producing predictions for industry purpose, rather his use of statistics, regression and data was focused towards examining the perceptions of the video game consumer (as the title states). His methods were very useful for the purpose of this paper however. Sacranie used regression extensively throughout his paper, including several factors such as console exclusivity, platform, sequel status and others as well as just genre. He also only used 5 genres for his methods as opposed to the 12 utilized for the purposes of this project (Sacranie and Leekley, n.d., p.15). It must be said, that there are far more genres than even 12, but to qualify each and every one is purely subjective. The twelve provided in the data set utilized for this project are objectively recognized by greater games media.\n",
    "- \"Vertical Integration, Exclusivity and Game Sales Performance in the U.S. Video Game Industry\" by Gil and Warzynski focuses exclusively, as the title would suggest, on the United States market. Their paper also features a large focus on the mathematics they utilized to implement their regression formulae. They opted for manual regression, with several equations(Gil and Warzynski, 2009, p.15). There was little of immediate value when auditing this work for the purposes of this project, however some of their extensive results could be used for comparison when considering the viability of predicting game sales based on Genre alone."
   ]
  },
  {
   "cell_type": "markdown",
   "metadata": {},
   "source": [
    " ## 1.3. Methodology/Methods <a class=\"anchor\" id=\"Methodology/Methods\"></a>"
   ]
  },
  {
   "cell_type": "markdown",
   "metadata": {},
   "source": [
    "The methods utilized when producing this method stems chiefly from the research conducted in the background section of this report. All three of the texts mentioned and named, both in the background section and the bibliography below, all utilized or recommended utilizing linear regression in research such as this. Despite that research being key, it was a natural progression for a report with a goal such as this. Processes such as simple association or KDD / Clustering would not be suitable for this topic as the goal is to predict future sales rather than to compare existing data.\n",
    "\n",
    "The implimentation of this Regression model started with the vital encoding of the categorical genre data stored in the dataset. The encoding was done with the pandas.get_dummies function. This function created additional columns for each value in the Genres column containing \"dummy\" values. These values are simple binary indicating if the aligned record is or is not of the represented genre. The encoding of the categorical data allows for it's use in the regression forumlae as strings are not permissable. Several un-needed columns were dropped in the process of cleaning the data, such as the ranking, year, platform and publisher columns. The columns representing the various regions making up the 'Global_Sales' figure were left un-dropped. This was done as a simple column name substitution would need to be made in the model itself to further narrow down the results to represent regions instead of the global market.\n",
    "\n",
    "The regression model itself is applied by utilizing the statsmodels.formula.api library for python, particularly the OLS library (Ordinary least squares) which estimates unknown parameters in the linear regression model. The testing and training data was composed from the sklearn.model_selection library's train_test_split which was used to divide the testing data and the training data fairly."
   ]
  },
  {
   "cell_type": "markdown",
   "metadata": {},
   "source": [
    "# 2. Stage  Two - Data Understanding <a class=\"anchor\" id=\"Dataunderstanding\"></a>\n",
    "The second stage of the process requires you to acquire the data listed in the project resources. This initial collection includes data loading, if this is necessary for data understanding. For example, if you use a specific tool for data understanding, it makes perfect sense to load your data into this tool. If you acquire multiple data sources then you need to consider how and when you're going to integrate these."
   ]
  },
  {
   "cell_type": "markdown",
   "metadata": {},
   "source": [
    "## 2.1 Initial Data Report <a class=\"anchor\" id=\"Datareport\"></a>\n",
    "This dataset was taken from Kaggle user Gregory Smith, who scraped the data from http://www.vgchartz.com/\n",
    "The link to this data set is as follows: https://www.kaggle.com/gregorut/videogamesales/data\n",
    "\n",
    "The truth and validity of the data from 'vgchartz' cannot be immediately varified, however their use of this data is purely educational."
   ]
  },
  {
   "cell_type": "code",
   "execution_count": 34,
   "metadata": {},
   "outputs": [],
   "source": [
    "# Import Libraries Required\n",
    "import pandas as pd\n",
    "import matplotlib.pyplot as plt\n",
    "%matplotlib inline\n",
    "import numpy as np\n",
    "import seaborn as sns"
   ]
  },
  {
   "cell_type": "code",
   "execution_count": 35,
   "metadata": {},
   "outputs": [],
   "source": [
    "#Data source: \n",
    "#Source Query location: \n",
    "path = 'vgsales.csv'\n",
    "# reads the data from the file - denotes as CSV, it has no header, sets column headers\n",
    "df =  pd.read_csv(path, sep=',') "
   ]
  },
  {
   "cell_type": "markdown",
   "metadata": {},
   "source": [
    "## 2.2 Describe Data <a class=\"anchor\" id=\"Describedata\"></a>\n",
    "Data description report - Describe the data that has been acquired including its format, its quantity (for example, the number of records and fields in each table), the identities of the fields and any other surface features which have been discovered. Evaluate whether the data acquired satisfies your requirements."
   ]
  },
  {
   "cell_type": "code",
   "execution_count": 36,
   "metadata": {},
   "outputs": [
    {
     "data": {
      "text/plain": [
       "Index(['Rank', 'Name', 'Platform', 'Year', 'Genre', 'Publisher', 'NA_Sales',\n",
       "       'EU_Sales', 'JP_Sales', 'Other_Sales', 'Global_Sales'],\n",
       "      dtype='object')"
      ]
     },
     "execution_count": 36,
     "metadata": {},
     "output_type": "execute_result"
    }
   ],
   "source": [
    "df.columns"
   ]
  },
  {
   "cell_type": "code",
   "execution_count": 37,
   "metadata": {},
   "outputs": [
    {
     "data": {
      "text/plain": [
       "(16598, 11)"
      ]
     },
     "execution_count": 37,
     "metadata": {},
     "output_type": "execute_result"
    }
   ],
   "source": [
    "df.shape\n"
   ]
  },
  {
   "cell_type": "code",
   "execution_count": 38,
   "metadata": {},
   "outputs": [
    {
     "data": {
      "text/plain": [
       "Rank              int64\n",
       "Name             object\n",
       "Platform         object\n",
       "Year            float64\n",
       "Genre            object\n",
       "Publisher        object\n",
       "NA_Sales        float64\n",
       "EU_Sales        float64\n",
       "JP_Sales        float64\n",
       "Other_Sales     float64\n",
       "Global_Sales    float64\n",
       "dtype: object"
      ]
     },
     "execution_count": 38,
     "metadata": {},
     "output_type": "execute_result"
    }
   ],
   "source": [
    "df.dtypes"
   ]
  },
  {
   "cell_type": "code",
   "execution_count": 39,
   "metadata": {},
   "outputs": [
    {
     "data": {
      "text/html": [
       "<div>\n",
       "<style scoped>\n",
       "    .dataframe tbody tr th:only-of-type {\n",
       "        vertical-align: middle;\n",
       "    }\n",
       "\n",
       "    .dataframe tbody tr th {\n",
       "        vertical-align: top;\n",
       "    }\n",
       "\n",
       "    .dataframe thead th {\n",
       "        text-align: right;\n",
       "    }\n",
       "</style>\n",
       "<table border=\"1\" class=\"dataframe\">\n",
       "  <thead>\n",
       "    <tr style=\"text-align: right;\">\n",
       "      <th></th>\n",
       "      <th>Rank</th>\n",
       "      <th>Year</th>\n",
       "      <th>NA_Sales</th>\n",
       "      <th>EU_Sales</th>\n",
       "      <th>JP_Sales</th>\n",
       "      <th>Other_Sales</th>\n",
       "      <th>Global_Sales</th>\n",
       "    </tr>\n",
       "  </thead>\n",
       "  <tbody>\n",
       "    <tr>\n",
       "      <td>count</td>\n",
       "      <td>16598.000000</td>\n",
       "      <td>16327.000000</td>\n",
       "      <td>16598.000000</td>\n",
       "      <td>16598.000000</td>\n",
       "      <td>16598.000000</td>\n",
       "      <td>16598.000000</td>\n",
       "      <td>16598.000000</td>\n",
       "    </tr>\n",
       "    <tr>\n",
       "      <td>mean</td>\n",
       "      <td>8300.605254</td>\n",
       "      <td>2006.406443</td>\n",
       "      <td>0.264667</td>\n",
       "      <td>0.146652</td>\n",
       "      <td>0.077782</td>\n",
       "      <td>0.048063</td>\n",
       "      <td>0.537441</td>\n",
       "    </tr>\n",
       "    <tr>\n",
       "      <td>std</td>\n",
       "      <td>4791.853933</td>\n",
       "      <td>5.828981</td>\n",
       "      <td>0.816683</td>\n",
       "      <td>0.505351</td>\n",
       "      <td>0.309291</td>\n",
       "      <td>0.188588</td>\n",
       "      <td>1.555028</td>\n",
       "    </tr>\n",
       "    <tr>\n",
       "      <td>min</td>\n",
       "      <td>1.000000</td>\n",
       "      <td>1980.000000</td>\n",
       "      <td>0.000000</td>\n",
       "      <td>0.000000</td>\n",
       "      <td>0.000000</td>\n",
       "      <td>0.000000</td>\n",
       "      <td>0.010000</td>\n",
       "    </tr>\n",
       "    <tr>\n",
       "      <td>25%</td>\n",
       "      <td>4151.250000</td>\n",
       "      <td>2003.000000</td>\n",
       "      <td>0.000000</td>\n",
       "      <td>0.000000</td>\n",
       "      <td>0.000000</td>\n",
       "      <td>0.000000</td>\n",
       "      <td>0.060000</td>\n",
       "    </tr>\n",
       "    <tr>\n",
       "      <td>50%</td>\n",
       "      <td>8300.500000</td>\n",
       "      <td>2007.000000</td>\n",
       "      <td>0.080000</td>\n",
       "      <td>0.020000</td>\n",
       "      <td>0.000000</td>\n",
       "      <td>0.010000</td>\n",
       "      <td>0.170000</td>\n",
       "    </tr>\n",
       "    <tr>\n",
       "      <td>75%</td>\n",
       "      <td>12449.750000</td>\n",
       "      <td>2010.000000</td>\n",
       "      <td>0.240000</td>\n",
       "      <td>0.110000</td>\n",
       "      <td>0.040000</td>\n",
       "      <td>0.040000</td>\n",
       "      <td>0.470000</td>\n",
       "    </tr>\n",
       "    <tr>\n",
       "      <td>max</td>\n",
       "      <td>16600.000000</td>\n",
       "      <td>2020.000000</td>\n",
       "      <td>41.490000</td>\n",
       "      <td>29.020000</td>\n",
       "      <td>10.220000</td>\n",
       "      <td>10.570000</td>\n",
       "      <td>82.740000</td>\n",
       "    </tr>\n",
       "  </tbody>\n",
       "</table>\n",
       "</div>"
      ],
      "text/plain": [
       "               Rank          Year      NA_Sales      EU_Sales      JP_Sales  \\\n",
       "count  16598.000000  16327.000000  16598.000000  16598.000000  16598.000000   \n",
       "mean    8300.605254   2006.406443      0.264667      0.146652      0.077782   \n",
       "std     4791.853933      5.828981      0.816683      0.505351      0.309291   \n",
       "min        1.000000   1980.000000      0.000000      0.000000      0.000000   \n",
       "25%     4151.250000   2003.000000      0.000000      0.000000      0.000000   \n",
       "50%     8300.500000   2007.000000      0.080000      0.020000      0.000000   \n",
       "75%    12449.750000   2010.000000      0.240000      0.110000      0.040000   \n",
       "max    16600.000000   2020.000000     41.490000     29.020000     10.220000   \n",
       "\n",
       "        Other_Sales  Global_Sales  \n",
       "count  16598.000000  16598.000000  \n",
       "mean       0.048063      0.537441  \n",
       "std        0.188588      1.555028  \n",
       "min        0.000000      0.010000  \n",
       "25%        0.000000      0.060000  \n",
       "50%        0.010000      0.170000  \n",
       "75%        0.040000      0.470000  \n",
       "max       10.570000     82.740000  "
      ]
     },
     "execution_count": 39,
     "metadata": {},
     "output_type": "execute_result"
    }
   ],
   "source": [
    "df.describe()"
   ]
  },
  {
   "cell_type": "code",
   "execution_count": 40,
   "metadata": {},
   "outputs": [
    {
     "name": "stdout",
     "output_type": "stream",
     "text": [
      "<class 'pandas.core.frame.DataFrame'>\n",
      "RangeIndex: 16598 entries, 0 to 16597\n",
      "Data columns (total 11 columns):\n",
      "Rank            16598 non-null int64\n",
      "Name            16598 non-null object\n",
      "Platform        16598 non-null object\n",
      "Year            16327 non-null float64\n",
      "Genre           16598 non-null object\n",
      "Publisher       16540 non-null object\n",
      "NA_Sales        16598 non-null float64\n",
      "EU_Sales        16598 non-null float64\n",
      "JP_Sales        16598 non-null float64\n",
      "Other_Sales     16598 non-null float64\n",
      "Global_Sales    16598 non-null float64\n",
      "dtypes: float64(6), int64(1), object(4)\n",
      "memory usage: 1.4+ MB\n"
     ]
    }
   ],
   "source": [
    "df.info()"
   ]
  },
  {
   "cell_type": "code",
   "execution_count": 41,
   "metadata": {},
   "outputs": [
    {
     "data": {
      "text/html": [
       "<div>\n",
       "<style scoped>\n",
       "    .dataframe tbody tr th:only-of-type {\n",
       "        vertical-align: middle;\n",
       "    }\n",
       "\n",
       "    .dataframe tbody tr th {\n",
       "        vertical-align: top;\n",
       "    }\n",
       "\n",
       "    .dataframe thead th {\n",
       "        text-align: right;\n",
       "    }\n",
       "</style>\n",
       "<table border=\"1\" class=\"dataframe\">\n",
       "  <thead>\n",
       "    <tr style=\"text-align: right;\">\n",
       "      <th></th>\n",
       "      <th>Rank</th>\n",
       "      <th>Name</th>\n",
       "      <th>Platform</th>\n",
       "      <th>Year</th>\n",
       "      <th>Genre</th>\n",
       "      <th>Publisher</th>\n",
       "      <th>NA_Sales</th>\n",
       "      <th>EU_Sales</th>\n",
       "      <th>JP_Sales</th>\n",
       "      <th>Other_Sales</th>\n",
       "      <th>Global_Sales</th>\n",
       "    </tr>\n",
       "  </thead>\n",
       "  <tbody>\n",
       "    <tr>\n",
       "      <td>0</td>\n",
       "      <td>1</td>\n",
       "      <td>Wii Sports</td>\n",
       "      <td>Wii</td>\n",
       "      <td>2006.0</td>\n",
       "      <td>Sports</td>\n",
       "      <td>Nintendo</td>\n",
       "      <td>41.49</td>\n",
       "      <td>29.02</td>\n",
       "      <td>3.77</td>\n",
       "      <td>8.46</td>\n",
       "      <td>82.74</td>\n",
       "    </tr>\n",
       "    <tr>\n",
       "      <td>1</td>\n",
       "      <td>2</td>\n",
       "      <td>Super Mario Bros.</td>\n",
       "      <td>NES</td>\n",
       "      <td>1985.0</td>\n",
       "      <td>Platform</td>\n",
       "      <td>Nintendo</td>\n",
       "      <td>29.08</td>\n",
       "      <td>3.58</td>\n",
       "      <td>6.81</td>\n",
       "      <td>0.77</td>\n",
       "      <td>40.24</td>\n",
       "    </tr>\n",
       "    <tr>\n",
       "      <td>2</td>\n",
       "      <td>3</td>\n",
       "      <td>Mario Kart Wii</td>\n",
       "      <td>Wii</td>\n",
       "      <td>2008.0</td>\n",
       "      <td>Racing</td>\n",
       "      <td>Nintendo</td>\n",
       "      <td>15.85</td>\n",
       "      <td>12.88</td>\n",
       "      <td>3.79</td>\n",
       "      <td>3.31</td>\n",
       "      <td>35.82</td>\n",
       "    </tr>\n",
       "    <tr>\n",
       "      <td>3</td>\n",
       "      <td>4</td>\n",
       "      <td>Wii Sports Resort</td>\n",
       "      <td>Wii</td>\n",
       "      <td>2009.0</td>\n",
       "      <td>Sports</td>\n",
       "      <td>Nintendo</td>\n",
       "      <td>15.75</td>\n",
       "      <td>11.01</td>\n",
       "      <td>3.28</td>\n",
       "      <td>2.96</td>\n",
       "      <td>33.00</td>\n",
       "    </tr>\n",
       "    <tr>\n",
       "      <td>4</td>\n",
       "      <td>5</td>\n",
       "      <td>Pokemon Red/Pokemon Blue</td>\n",
       "      <td>GB</td>\n",
       "      <td>1996.0</td>\n",
       "      <td>Role-Playing</td>\n",
       "      <td>Nintendo</td>\n",
       "      <td>11.27</td>\n",
       "      <td>8.89</td>\n",
       "      <td>10.22</td>\n",
       "      <td>1.00</td>\n",
       "      <td>31.37</td>\n",
       "    </tr>\n",
       "  </tbody>\n",
       "</table>\n",
       "</div>"
      ],
      "text/plain": [
       "   Rank                      Name Platform    Year         Genre Publisher  \\\n",
       "0     1                Wii Sports      Wii  2006.0        Sports  Nintendo   \n",
       "1     2         Super Mario Bros.      NES  1985.0      Platform  Nintendo   \n",
       "2     3            Mario Kart Wii      Wii  2008.0        Racing  Nintendo   \n",
       "3     4         Wii Sports Resort      Wii  2009.0        Sports  Nintendo   \n",
       "4     5  Pokemon Red/Pokemon Blue       GB  1996.0  Role-Playing  Nintendo   \n",
       "\n",
       "   NA_Sales  EU_Sales  JP_Sales  Other_Sales  Global_Sales  \n",
       "0     41.49     29.02      3.77         8.46         82.74  \n",
       "1     29.08      3.58      6.81         0.77         40.24  \n",
       "2     15.85     12.88      3.79         3.31         35.82  \n",
       "3     15.75     11.01      3.28         2.96         33.00  \n",
       "4     11.27      8.89     10.22         1.00         31.37  "
      ]
     },
     "execution_count": 41,
     "metadata": {},
     "output_type": "execute_result"
    }
   ],
   "source": [
    "df.head(5)"
   ]
  },
  {
   "cell_type": "markdown",
   "metadata": {},
   "source": [
    "## 2.3 Verify Data Quality <a class=\"anchor\" id=\"Verifydataquality\"></a>\n",
    "\n",
    "Examine the quality of the data, addressing questions such as:\n",
    "\n",
    "- Is the data complete (does it cover all the cases required)?\n",
    "- Is it correct, or does it contain errors and, if there are errors, how common are they?\n",
    "- Are there missing values in the data? If so, how are they represented, where do they occur, and how common are they?"
   ]
  },
  {
   "cell_type": "markdown",
   "metadata": {},
   "source": [
    "### 2.3.1. Missing Data <a class=\"anchor\" id=\"MissingData\"></a>\n",
    "In addition to incorrect datatypes, another common problem when dealing with real-world data is missing values. These can arise for many reasons and have to be either filled in or removed before we train a machine learning model. First, let’s get a sense of how many missing values are in each column \n",
    "\n",
    "While we always want to be careful about removing information, if a column has a high percentage of missing values, then it probably will not be useful to our model. The threshold for removing columns should depend on the problem"
   ]
  },
  {
   "cell_type": "code",
   "execution_count": 42,
   "metadata": {},
   "outputs": [
    {
     "data": {
      "text/plain": [
       "Rank              0\n",
       "Name              0\n",
       "Platform          0\n",
       "Year            271\n",
       "Genre             0\n",
       "Publisher        58\n",
       "NA_Sales          0\n",
       "EU_Sales          0\n",
       "JP_Sales          0\n",
       "Other_Sales       0\n",
       "Global_Sales      0\n",
       "dtype: int64"
      ]
     },
     "execution_count": 42,
     "metadata": {},
     "output_type": "execute_result"
    }
   ],
   "source": [
    "df.isnull().sum()"
   ]
  },
  {
   "cell_type": "code",
   "execution_count": 43,
   "metadata": {},
   "outputs": [],
   "source": [
    "def missing_values_table(df):\n",
    "        mis_val = df.isnull().sum()\n",
    "        mis_val_percent = 100 * df.isnull().sum() / len(df)\n",
    "        mis_val_table = pd.concat([mis_val, mis_val_percent], axis=1)\n",
    "        mis_val_table_ren_columns = mis_val_table.rename(\n",
    "        columns = {0 : 'Missing Values', 1 : '% of Total Values'})\n",
    "        mis_val_table_ren_columns = mis_val_table_ren_columns[\n",
    "            mis_val_table_ren_columns.iloc[:,1] != 0].sort_values(\n",
    "        '% of Total Values', ascending=False).round(1)\n",
    "        print (\"Your selected dataframe has \" + str(df.shape[1]) + \" columns.\\n\"      \n",
    "            \"There are \" + str(mis_val_table_ren_columns.shape[0]) +\n",
    "              \" columns that have missing values.\")\n",
    "        return mis_val_table_ren_columns"
   ]
  },
  {
   "cell_type": "code",
   "execution_count": 44,
   "metadata": {},
   "outputs": [
    {
     "name": "stdout",
     "output_type": "stream",
     "text": [
      "Your selected dataframe has 11 columns.\n",
      "There are 2 columns that have missing values.\n"
     ]
    },
    {
     "data": {
      "text/html": [
       "<div>\n",
       "<style scoped>\n",
       "    .dataframe tbody tr th:only-of-type {\n",
       "        vertical-align: middle;\n",
       "    }\n",
       "\n",
       "    .dataframe tbody tr th {\n",
       "        vertical-align: top;\n",
       "    }\n",
       "\n",
       "    .dataframe thead th {\n",
       "        text-align: right;\n",
       "    }\n",
       "</style>\n",
       "<table border=\"1\" class=\"dataframe\">\n",
       "  <thead>\n",
       "    <tr style=\"text-align: right;\">\n",
       "      <th></th>\n",
       "      <th>Missing Values</th>\n",
       "      <th>% of Total Values</th>\n",
       "    </tr>\n",
       "  </thead>\n",
       "  <tbody>\n",
       "    <tr>\n",
       "      <td>Year</td>\n",
       "      <td>271</td>\n",
       "      <td>1.6</td>\n",
       "    </tr>\n",
       "    <tr>\n",
       "      <td>Publisher</td>\n",
       "      <td>58</td>\n",
       "      <td>0.3</td>\n",
       "    </tr>\n",
       "  </tbody>\n",
       "</table>\n",
       "</div>"
      ],
      "text/plain": [
       "           Missing Values  % of Total Values\n",
       "Year                  271                1.6\n",
       "Publisher              58                0.3"
      ]
     },
     "execution_count": 44,
     "metadata": {},
     "output_type": "execute_result"
    }
   ],
   "source": [
    "missing_values_table(df)"
   ]
  },
  {
   "cell_type": "code",
   "execution_count": 45,
   "metadata": {},
   "outputs": [
    {
     "name": "stdout",
     "output_type": "stream",
     "text": [
      "Your selected dataframe has 11 columns.\n",
      "There are 2 columns that have missing values.\n",
      "We will remove 0 columns.\n"
     ]
    }
   ],
   "source": [
    "# Get the columns with > 50% missing\n",
    "missing_df = missing_values_table(df);\n",
    "missing_columns = list(missing_df[missing_df['% of Total Values'] > 50].index)\n",
    "print('We will remove %d columns.' % len(missing_columns))"
   ]
  },
  {
   "cell_type": "code",
   "execution_count": 46,
   "metadata": {},
   "outputs": [],
   "source": [
    "# Drop the columns\n",
    "df = df.drop(list(missing_columns))"
   ]
  },
  {
   "cell_type": "markdown",
   "metadata": {},
   "source": [
    "## 2.4 Initial Data Exploration  <a class=\"anchor\" id=\"Exploredata\"></a>\n",
    "During this stage you'll address data mining questions using querying, data visualization and reporting techniques. These ***may*** include:\n",
    "\n",
    "- **Distribution** of key attributes (for example, the target attribute of a prediction task)\n",
    "- **Relationships** between pairs or small numbers of attributes\n",
    "- Results of **simple aggregations**\n",
    "- **Properties** of significant sub-populations\n",
    "- **Simple** statistical analyses\n",
    "\n",
    "These analyses may directly address your data mining goals. They may also contribute to or refine the data description and quality reports, and feed into the transformation and other data preparation steps needed for further analysis. \n",
    "\n",
    "- **Data exploration report** - Describe results of your data exploration, including first findings or initial hypothesis and their impact on the remainder of the project. If appropriate you could include graphs and plots here to indicate data characteristics that suggest further examination of interesting data subsets."
   ]
  },
  {
   "cell_type": "markdown",
   "metadata": {},
   "source": [
    "### 2.4.1 Distributions  <a class=\"anchor\" id=\"Distributions\"></a>"
   ]
  },
  {
   "cell_type": "code",
   "execution_count": 47,
   "metadata": {},
   "outputs": [
    {
     "data": {
      "image/png": "[encoded data removed]",
      "text/plain": [
       "<Figure size 432x288 with 1 Axes>"
      ]
     },
     "metadata": {
      "needs_background": "light"
     },
     "output_type": "display_data"
    }
   ],
   "source": [
    "aggregateDF = df.groupby('Genre').agg({'Global_Sales': np.sum})\n",
    "aggregateDF.plot.bar()\n",
    "plt.title('Total sales by Genre')\n",
    "plt.ylabel('Global Units Sold (in Millions)')\n",
    "plt.show()"
   ]
  },
  {
   "cell_type": "markdown",
   "metadata": {},
   "source": [
    "## 2.5 Data Quality Report <a class=\"anchor\" id=\"Dataqualityreport\"></a>\n",
    "List the results of the data quality verification. If quality problems exist, suggest possible solutions. Solutions to data quality problems generally depend heavily on both data and business knowledge."
   ]
  },
  {
   "cell_type": "markdown",
   "metadata": {},
   "source": [
    "#### Missing Values\n",
    "\n",
    "Only two columns contained any missing values. The year column has a total of 271 missing values, which makes up 1.6 percent of the total values contained within the year column. The publisher column contained 58 missing values, which makes up 0.3 percent of the total values of the publisher column. These missing values were well within acceptable bounds for missing information. A simple median value for year may have been applied as the years are stored as floats. The publisher may have just been adjusted into an \"other\", or \"not_listed\" default value.\n",
    "\n",
    "#### Incorrect Data Types\n",
    "\n",
    "The year column was stored as type float. Years are traditionally stored as categorical data, due to the fact that years in the archival sense are rarely used for aggregate functions.\n"
   ]
  },
  {
   "cell_type": "markdown",
   "metadata": {},
   "source": [
    "# 3. Stage Three - Data Preperation <a class=\"anchor\" id=\"Datapreperation\"></a>\n",
    "This is the stage of the project where you decide on the data that you're going to use for analysis. The criteria you might use to make this decision include the relevance of the data to your data mining goals, the quality of the data, and also technical constraints such as limits on data volume or data types. Note that data selection covers selection of attributes (columns) as well as selection of records (rows) in a table."
   ]
  },
  {
   "cell_type": "markdown",
   "metadata": {},
   "source": [
    "## 3.1 Select Your Data <a class=\"anchor\" id=\"Selectyourdata\"></a>\n",
    "This is the stage of the project where you decide on the data that you're going to use for analysis. The criteria you might use to make this decision include the relevance of the data to your data mining goals, the quality of the data, and also technical constraints such as limits on data volume or data types. Note that data selection covers selection of attributes (columns) as well as selection of records (rows) in a table.\n",
    "\n",
    "Rationale for inclusion/exclusion - List the data to be included/excluded and the reasons for these decisions."
   ]
  },
  {
   "attachments": {},
   "cell_type": "markdown",
   "metadata": {},
   "source": [
    "#### Columns\n",
    "The only columns relevant to the research topic of this report were Name (for listing purposes), Genre and Global_Sales. As mentioned above, the sales for each independent region (NA_Sales, EU_Sales, JP_Sales and Other_Sales) were left undropped. A simple function could be added as an extension to this project that would analyze the monetary potential for genres within specific regions. Ranking, Publisher, Platform and Year were all dropped as they hold no relevance, or potential relevance, to the subject matter at hand. "
   ]
  },
  {
   "cell_type": "markdown",
   "metadata": {},
   "source": [
    "## 3.2 Clean The Data <a class=\"anchor\" id=\"Cleansethedata\"></a>\n",
    "This task involves raise the data quality to the level required by the analysis techniques that you've selected. This may involve selecting clean subsets of the data, the insertion of suitable defaults, or more ambitious techniques such as the estimation of missing data by modelling."
   ]
  },
  {
   "cell_type": "markdown",
   "metadata": {},
   "source": [
    "### 3.2.1 Label Encoding <a class=\"anchor\" id=\"labelEncoding\"></a>\n",
    "Label Encoding to turn Categorical values to Integers\n",
    "\n",
    "An approach to encoding categorical values is to use a technique called label encoding. Label encoding is simply converting each value in a column to a number. For example, the body_style column contains 5 different values. We could choose to encode it like this:\n",
    "\n",
    "convertible -> 0\n",
    "hardtop -> 1\n",
    "hatchback -> 2\n",
    "sedan -> 3\n",
    "wagon -> 4\n",
    "http://pbpython.com/categorical-encoding.html"
   ]
  },
  {
   "cell_type": "code",
   "execution_count": 48,
   "metadata": {},
   "outputs": [],
   "source": [
    "#dfAfterEnc represents the data frame after encoding, \n",
    "dfAfterEnc = pd.get_dummies(df, columns=[\"Genre\"])"
   ]
  },
  {
   "cell_type": "code",
   "execution_count": 49,
   "metadata": {},
   "outputs": [
    {
     "data": {
      "text/html": [
       "<div>\n",
       "<style scoped>\n",
       "    .dataframe tbody tr th:only-of-type {\n",
       "        vertical-align: middle;\n",
       "    }\n",
       "\n",
       "    .dataframe tbody tr th {\n",
       "        vertical-align: top;\n",
       "    }\n",
       "\n",
       "    .dataframe thead th {\n",
       "        text-align: right;\n",
       "    }\n",
       "</style>\n",
       "<table border=\"1\" class=\"dataframe\">\n",
       "  <thead>\n",
       "    <tr style=\"text-align: right;\">\n",
       "      <th></th>\n",
       "      <th>Rank</th>\n",
       "      <th>Name</th>\n",
       "      <th>Platform</th>\n",
       "      <th>Year</th>\n",
       "      <th>Publisher</th>\n",
       "      <th>NA_Sales</th>\n",
       "      <th>EU_Sales</th>\n",
       "      <th>JP_Sales</th>\n",
       "      <th>Other_Sales</th>\n",
       "      <th>Global_Sales</th>\n",
       "      <th>...</th>\n",
       "      <th>Genre_Fighting</th>\n",
       "      <th>Genre_Misc</th>\n",
       "      <th>Genre_Platform</th>\n",
       "      <th>Genre_Puzzle</th>\n",
       "      <th>Genre_Racing</th>\n",
       "      <th>Genre_Role-Playing</th>\n",
       "      <th>Genre_Shooter</th>\n",
       "      <th>Genre_Simulation</th>\n",
       "      <th>Genre_Sports</th>\n",
       "      <th>Genre_Strategy</th>\n",
       "    </tr>\n",
       "  </thead>\n",
       "  <tbody>\n",
       "    <tr>\n",
       "      <td>0</td>\n",
       "      <td>1</td>\n",
       "      <td>Wii Sports</td>\n",
       "      <td>Wii</td>\n",
       "      <td>2006.0</td>\n",
       "      <td>Nintendo</td>\n",
       "      <td>41.49</td>\n",
       "      <td>29.02</td>\n",
       "      <td>3.77</td>\n",
       "      <td>8.46</td>\n",
       "      <td>82.74</td>\n",
       "      <td>...</td>\n",
       "      <td>0</td>\n",
       "      <td>0</td>\n",
       "      <td>0</td>\n",
       "      <td>0</td>\n",
       "      <td>0</td>\n",
       "      <td>0</td>\n",
       "      <td>0</td>\n",
       "      <td>0</td>\n",
       "      <td>1</td>\n",
       "      <td>0</td>\n",
       "    </tr>\n",
       "    <tr>\n",
       "      <td>1</td>\n",
       "      <td>2</td>\n",
       "      <td>Super Mario Bros.</td>\n",
       "      <td>NES</td>\n",
       "      <td>1985.0</td>\n",
       "      <td>Nintendo</td>\n",
       "      <td>29.08</td>\n",
       "      <td>3.58</td>\n",
       "      <td>6.81</td>\n",
       "      <td>0.77</td>\n",
       "      <td>40.24</td>\n",
       "      <td>...</td>\n",
       "      <td>0</td>\n",
       "      <td>0</td>\n",
       "      <td>1</td>\n",
       "      <td>0</td>\n",
       "      <td>0</td>\n",
       "      <td>0</td>\n",
       "      <td>0</td>\n",
       "      <td>0</td>\n",
       "      <td>0</td>\n",
       "      <td>0</td>\n",
       "    </tr>\n",
       "    <tr>\n",
       "      <td>2</td>\n",
       "      <td>3</td>\n",
       "      <td>Mario Kart Wii</td>\n",
       "      <td>Wii</td>\n",
       "      <td>2008.0</td>\n",
       "      <td>Nintendo</td>\n",
       "      <td>15.85</td>\n",
       "      <td>12.88</td>\n",
       "      <td>3.79</td>\n",
       "      <td>3.31</td>\n",
       "      <td>35.82</td>\n",
       "      <td>...</td>\n",
       "      <td>0</td>\n",
       "      <td>0</td>\n",
       "      <td>0</td>\n",
       "      <td>0</td>\n",
       "      <td>1</td>\n",
       "      <td>0</td>\n",
       "      <td>0</td>\n",
       "      <td>0</td>\n",
       "      <td>0</td>\n",
       "      <td>0</td>\n",
       "    </tr>\n",
       "    <tr>\n",
       "      <td>3</td>\n",
       "      <td>4</td>\n",
       "      <td>Wii Sports Resort</td>\n",
       "      <td>Wii</td>\n",
       "      <td>2009.0</td>\n",
       "      <td>Nintendo</td>\n",
       "      <td>15.75</td>\n",
       "      <td>11.01</td>\n",
       "      <td>3.28</td>\n",
       "      <td>2.96</td>\n",
       "      <td>33.00</td>\n",
       "      <td>...</td>\n",
       "      <td>0</td>\n",
       "      <td>0</td>\n",
       "      <td>0</td>\n",
       "      <td>0</td>\n",
       "      <td>0</td>\n",
       "      <td>0</td>\n",
       "      <td>0</td>\n",
       "      <td>0</td>\n",
       "      <td>1</td>\n",
       "      <td>0</td>\n",
       "    </tr>\n",
       "    <tr>\n",
       "      <td>4</td>\n",
       "      <td>5</td>\n",
       "      <td>Pokemon Red/Pokemon Blue</td>\n",
       "      <td>GB</td>\n",
       "      <td>1996.0</td>\n",
       "      <td>Nintendo</td>\n",
       "      <td>11.27</td>\n",
       "      <td>8.89</td>\n",
       "      <td>10.22</td>\n",
       "      <td>1.00</td>\n",
       "      <td>31.37</td>\n",
       "      <td>...</td>\n",
       "      <td>0</td>\n",
       "      <td>0</td>\n",
       "      <td>0</td>\n",
       "      <td>0</td>\n",
       "      <td>0</td>\n",
       "      <td>1</td>\n",
       "      <td>0</td>\n",
       "      <td>0</td>\n",
       "      <td>0</td>\n",
       "      <td>0</td>\n",
       "    </tr>\n",
       "  </tbody>\n",
       "</table>\n",
       "<p>5 rows × 22 columns</p>\n",
       "</div>"
      ],
      "text/plain": [
       "   Rank                      Name Platform    Year Publisher  NA_Sales  \\\n",
       "0     1                Wii Sports      Wii  2006.0  Nintendo     41.49   \n",
       "1     2         Super Mario Bros.      NES  1985.0  Nintendo     29.08   \n",
       "2     3            Mario Kart Wii      Wii  2008.0  Nintendo     15.85   \n",
       "3     4         Wii Sports Resort      Wii  2009.0  Nintendo     15.75   \n",
       "4     5  Pokemon Red/Pokemon Blue       GB  1996.0  Nintendo     11.27   \n",
       "\n",
       "   EU_Sales  JP_Sales  Other_Sales  Global_Sales  ...  Genre_Fighting  \\\n",
       "0     29.02      3.77         8.46         82.74  ...               0   \n",
       "1      3.58      6.81         0.77         40.24  ...               0   \n",
       "2     12.88      3.79         3.31         35.82  ...               0   \n",
       "3     11.01      3.28         2.96         33.00  ...               0   \n",
       "4      8.89     10.22         1.00         31.37  ...               0   \n",
       "\n",
       "   Genre_Misc  Genre_Platform  Genre_Puzzle  Genre_Racing  Genre_Role-Playing  \\\n",
       "0           0               0             0             0                   0   \n",
       "1           0               1             0             0                   0   \n",
       "2           0               0             0             1                   0   \n",
       "3           0               0             0             0                   0   \n",
       "4           0               0             0             0                   1   \n",
       "\n",
       "   Genre_Shooter  Genre_Simulation  Genre_Sports  Genre_Strategy  \n",
       "0              0                 0             1               0  \n",
       "1              0                 0             0               0  \n",
       "2              0                 0             0               0  \n",
       "3              0                 0             1               0  \n",
       "4              0                 0             0               0  \n",
       "\n",
       "[5 rows x 22 columns]"
      ]
     },
     "execution_count": 49,
     "metadata": {},
     "output_type": "execute_result"
    }
   ],
   "source": [
    "dfAfterEnc.head()"
   ]
  },
  {
   "cell_type": "markdown",
   "metadata": {},
   "source": [
    "### 3.2.2 Drop Unnecessary Columns <a class=\"anchor\" id=\"DropCols\"></a>\n",
    "Sometimes we may not need certain columns. We can drop to keep only relevent data"
   ]
  },
  {
   "cell_type": "code",
   "execution_count": 50,
   "metadata": {},
   "outputs": [
    {
     "data": {
      "text/html": [
       "<div>\n",
       "<style scoped>\n",
       "    .dataframe tbody tr th:only-of-type {\n",
       "        vertical-align: middle;\n",
       "    }\n",
       "\n",
       "    .dataframe tbody tr th {\n",
       "        vertical-align: top;\n",
       "    }\n",
       "\n",
       "    .dataframe thead th {\n",
       "        text-align: right;\n",
       "    }\n",
       "</style>\n",
       "<table border=\"1\" class=\"dataframe\">\n",
       "  <thead>\n",
       "    <tr style=\"text-align: right;\">\n",
       "      <th></th>\n",
       "      <th>Name</th>\n",
       "      <th>NA_Sales</th>\n",
       "      <th>EU_Sales</th>\n",
       "      <th>JP_Sales</th>\n",
       "      <th>Other_Sales</th>\n",
       "      <th>Global_Sales</th>\n",
       "      <th>Genre_Action</th>\n",
       "      <th>Genre_Adventure</th>\n",
       "      <th>Genre_Fighting</th>\n",
       "      <th>Genre_Misc</th>\n",
       "      <th>Genre_Platform</th>\n",
       "      <th>Genre_Puzzle</th>\n",
       "      <th>Genre_Racing</th>\n",
       "      <th>Genre_Role-Playing</th>\n",
       "      <th>Genre_Shooter</th>\n",
       "      <th>Genre_Simulation</th>\n",
       "      <th>Genre_Sports</th>\n",
       "      <th>Genre_Strategy</th>\n",
       "    </tr>\n",
       "  </thead>\n",
       "  <tbody>\n",
       "    <tr>\n",
       "      <td>0</td>\n",
       "      <td>Wii Sports</td>\n",
       "      <td>41.49</td>\n",
       "      <td>29.02</td>\n",
       "      <td>3.77</td>\n",
       "      <td>8.46</td>\n",
       "      <td>82.74</td>\n",
       "      <td>0</td>\n",
       "      <td>0</td>\n",
       "      <td>0</td>\n",
       "      <td>0</td>\n",
       "      <td>0</td>\n",
       "      <td>0</td>\n",
       "      <td>0</td>\n",
       "      <td>0</td>\n",
       "      <td>0</td>\n",
       "      <td>0</td>\n",
       "      <td>1</td>\n",
       "      <td>0</td>\n",
       "    </tr>\n",
       "    <tr>\n",
       "      <td>1</td>\n",
       "      <td>Super Mario Bros.</td>\n",
       "      <td>29.08</td>\n",
       "      <td>3.58</td>\n",
       "      <td>6.81</td>\n",
       "      <td>0.77</td>\n",
       "      <td>40.24</td>\n",
       "      <td>0</td>\n",
       "      <td>0</td>\n",
       "      <td>0</td>\n",
       "      <td>0</td>\n",
       "      <td>1</td>\n",
       "      <td>0</td>\n",
       "      <td>0</td>\n",
       "      <td>0</td>\n",
       "      <td>0</td>\n",
       "      <td>0</td>\n",
       "      <td>0</td>\n",
       "      <td>0</td>\n",
       "    </tr>\n",
       "    <tr>\n",
       "      <td>2</td>\n",
       "      <td>Mario Kart Wii</td>\n",
       "      <td>15.85</td>\n",
       "      <td>12.88</td>\n",
       "      <td>3.79</td>\n",
       "      <td>3.31</td>\n",
       "      <td>35.82</td>\n",
       "      <td>0</td>\n",
       "      <td>0</td>\n",
       "      <td>0</td>\n",
       "      <td>0</td>\n",
       "      <td>0</td>\n",
       "      <td>0</td>\n",
       "      <td>1</td>\n",
       "      <td>0</td>\n",
       "      <td>0</td>\n",
       "      <td>0</td>\n",
       "      <td>0</td>\n",
       "      <td>0</td>\n",
       "    </tr>\n",
       "    <tr>\n",
       "      <td>3</td>\n",
       "      <td>Wii Sports Resort</td>\n",
       "      <td>15.75</td>\n",
       "      <td>11.01</td>\n",
       "      <td>3.28</td>\n",
       "      <td>2.96</td>\n",
       "      <td>33.00</td>\n",
       "      <td>0</td>\n",
       "      <td>0</td>\n",
       "      <td>0</td>\n",
       "      <td>0</td>\n",
       "      <td>0</td>\n",
       "      <td>0</td>\n",
       "      <td>0</td>\n",
       "      <td>0</td>\n",
       "      <td>0</td>\n",
       "      <td>0</td>\n",
       "      <td>1</td>\n",
       "      <td>0</td>\n",
       "    </tr>\n",
       "    <tr>\n",
       "      <td>4</td>\n",
       "      <td>Pokemon Red/Pokemon Blue</td>\n",
       "      <td>11.27</td>\n",
       "      <td>8.89</td>\n",
       "      <td>10.22</td>\n",
       "      <td>1.00</td>\n",
       "      <td>31.37</td>\n",
       "      <td>0</td>\n",
       "      <td>0</td>\n",
       "      <td>0</td>\n",
       "      <td>0</td>\n",
       "      <td>0</td>\n",
       "      <td>0</td>\n",
       "      <td>0</td>\n",
       "      <td>1</td>\n",
       "      <td>0</td>\n",
       "      <td>0</td>\n",
       "      <td>0</td>\n",
       "      <td>0</td>\n",
       "    </tr>\n",
       "  </tbody>\n",
       "</table>\n",
       "</div>"
      ],
      "text/plain": [
       "                       Name  NA_Sales  EU_Sales  JP_Sales  Other_Sales  \\\n",
       "0                Wii Sports     41.49     29.02      3.77         8.46   \n",
       "1         Super Mario Bros.     29.08      3.58      6.81         0.77   \n",
       "2            Mario Kart Wii     15.85     12.88      3.79         3.31   \n",
       "3         Wii Sports Resort     15.75     11.01      3.28         2.96   \n",
       "4  Pokemon Red/Pokemon Blue     11.27      8.89     10.22         1.00   \n",
       "\n",
       "   Global_Sales  Genre_Action  Genre_Adventure  Genre_Fighting  Genre_Misc  \\\n",
       "0         82.74             0                0               0           0   \n",
       "1         40.24             0                0               0           0   \n",
       "2         35.82             0                0               0           0   \n",
       "3         33.00             0                0               0           0   \n",
       "4         31.37             0                0               0           0   \n",
       "\n",
       "   Genre_Platform  Genre_Puzzle  Genre_Racing  Genre_Role-Playing  \\\n",
       "0               0             0             0                   0   \n",
       "1               1             0             0                   0   \n",
       "2               0             0             1                   0   \n",
       "3               0             0             0                   0   \n",
       "4               0             0             0                   1   \n",
       "\n",
       "   Genre_Shooter  Genre_Simulation  Genre_Sports  Genre_Strategy  \n",
       "0              0                 0             1               0  \n",
       "1              0                 0             0               0  \n",
       "2              0                 0             0               0  \n",
       "3              0                 0             1               0  \n",
       "4              0                 0             0               0  "
      ]
     },
     "execution_count": 50,
     "metadata": {},
     "output_type": "execute_result"
    }
   ],
   "source": [
    "#del_col_list = ['col1', 'col2']\n",
    "##df = df.drop(del_col_list, axis=1)\n",
    "#df.head()\n",
    "\n",
    "#Removing platform, rank, publisher and year because it has no relevence to the research question\n",
    "del_col_list = ['Platform', 'Rank', 'Publisher', 'Year']\n",
    "cleanDF = dfAfterEnc.drop(del_col_list, axis = 1)\n",
    "cleanDF.head()"
   ]
  },
  {
   "cell_type": "markdown",
   "metadata": {},
   "source": [
    "## 3.5 Primary Data Set  <a class=\"anchor\" id=\"Primary Data Set\"></a>\n",
    "Construct Our Primary Data Set, this is the pre-processed data set that will be used for the data modeling experiments."
   ]
  },
  {
   "cell_type": "code",
   "execution_count": 52,
   "metadata": {},
   "outputs": [],
   "source": [
    "#Composition of Test and Training data for use during Model verification\n",
    "from sklearn.model_selection import train_test_split\n",
    "y = cleanDF['Global_Sales']\n",
    "x = cleanDF\n",
    "xtrain, xtest, ytrain, ytest = train_test_split(x, y, test_size=0.33, random_state = 42)\n",
    "\n",
    "#primaryDF is composed of the final adjusted dataframe from the previous section.\n",
    "primaryDF = cleanDF\n"
   ]
  },
  {
   "cell_type": "markdown",
   "metadata": {},
   "source": [
    "# 4. Modelling <a class=\"anchor\" id=\"Modelling\"></a>\n",
    "As the first step in modelling, you'll select the actual modelling technique that you'll be using. Although you may have already selected a tool during the business understanding phase, at this stage you'll be selecting the specific modelling technique e.g. Association Rules with Apriori,  decision-tree building with C5.0, Clustering with K-Meand or neural network generation with back propagation. If multiple techniques are applied, perform this task separately for each technique.\n",
    "\n"
   ]
  },
  {
   "cell_type": "markdown",
   "metadata": {},
   "source": [
    "## 4.1. Modelling technique <a class=\"anchor\" id=\"ModellingTechnique\"></a>\n",
    "Document the actual modelling technique that is to be used.\n",
    "\n",
    "Multiple Linear Regression - Utilized to predict global sales via genre as discussed in the methodology section\n",
    "\n",
    "Import Models below:"
   ]
  },
  {
   "cell_type": "code",
   "execution_count": 53,
   "metadata": {},
   "outputs": [],
   "source": [
    "import statsmodels.formula.api as smf"
   ]
  },
  {
   "cell_type": "markdown",
   "metadata": {},
   "source": [
    "## 4.2. Modelling assumptions <a class=\"anchor\" id=\"ModellingAssumptions\"></a>\n",
    "Many modelling techniques make specific assumptions about the data, for example that all attributes have uniform distributions, no missing values allowed, class attribute must be symbolic etc. Record any assumptions made.\n",
    "\n",
    "- Columns used have no missing data (Numerical Data may have a default value)\n",
    "- Genre column has been encoded\n"
   ]
  },
  {
   "cell_type": "markdown",
   "metadata": {},
   "source": [
    "## 5.3. Build Model <a class=\"anchor\" id=\"BuildModel\"></a>\n",
    "Run the modelling tool on the prepared dataset to create one or more models.\n",
    "\n",
    "**Parameter settings** - With any modelling tool there are often a large number of parameters that can be adjusted. List the parameters and their chosen values, along with the rationale for the choice of parameter settings.\n",
    "\n",
    "**Models** - These are the actual models produced by the modelling tool, not a report on the models.\n",
    "\n",
    "**Model descriptions** - Describe the resulting models, report on the interpretation of the models and document any difficulties encountered with their meanings."
   ]
  },
  {
   "cell_type": "code",
   "execution_count": 54,
   "metadata": {},
   "outputs": [
    {
     "data": {
      "text/html": [
       "<table class=\"simpletable\">\n",
       "<caption>OLS Regression Results</caption>\n",
       "<tr>\n",
       "  <th>Dep. Variable:</th>      <td>Global_Sales</td>   <th>  R-squared:         </th> <td>   0.000</td> \n",
       "</tr>\n",
       "<tr>\n",
       "  <th>Model:</th>                   <td>OLS</td>       <th>  Adj. R-squared:    </th> <td>   0.000</td> \n",
       "</tr>\n",
       "<tr>\n",
       "  <th>Method:</th>             <td>Least Squares</td>  <th>  F-statistic:       </th> <td>   1.009</td> \n",
       "</tr>\n",
       "<tr>\n",
       "  <th>Date:</th>             <td>Fri, 06 Dec 2019</td> <th>  Prob (F-statistic):</th>  <td> 0.315</td>  \n",
       "</tr>\n",
       "<tr>\n",
       "  <th>Time:</th>                 <td>20:47:12</td>     <th>  Log-Likelihood:    </th> <td> -30878.</td> \n",
       "</tr>\n",
       "<tr>\n",
       "  <th>No. Observations:</th>      <td> 16598</td>      <th>  AIC:               </th> <td>6.176e+04</td>\n",
       "</tr>\n",
       "<tr>\n",
       "  <th>Df Residuals:</th>          <td> 16596</td>      <th>  BIC:               </th> <td>6.178e+04</td>\n",
       "</tr>\n",
       "<tr>\n",
       "  <th>Df Model:</th>              <td>     1</td>      <th>                     </th>     <td> </td>    \n",
       "</tr>\n",
       "<tr>\n",
       "  <th>Covariance Type:</th>      <td>nonrobust</td>    <th>                     </th>     <td> </td>    \n",
       "</tr>\n",
       "</table>\n",
       "<table class=\"simpletable\">\n",
       "<tr>\n",
       "            <td></td>              <th>coef</th>     <th>std err</th>      <th>t</th>      <th>P>|t|</th>  <th>[0.025</th>    <th>0.975]</th>  \n",
       "</tr>\n",
       "<tr>\n",
       "  <th>Intercept</th>            <td>    0.5325</td> <td>    0.013</td> <td>   40.883</td> <td> 0.000</td> <td>    0.507</td> <td>    0.558</td>\n",
       "</tr>\n",
       "<tr>\n",
       "  <th>C(Genre_Sports)[T.1]</th> <td>    0.0348</td> <td>    0.035</td> <td>    1.004</td> <td> 0.315</td> <td>   -0.033</td> <td>    0.103</td>\n",
       "</tr>\n",
       "</table>\n",
       "<table class=\"simpletable\">\n",
       "<tr>\n",
       "  <th>Omnibus:</th>       <td>34430.086</td> <th>  Durbin-Watson:     </th>   <td>   0.046</td>   \n",
       "</tr>\n",
       "<tr>\n",
       "  <th>Prob(Omnibus):</th>  <td> 0.000</td>   <th>  Jarque-Bera (JB):  </th> <td>252438271.988</td>\n",
       "</tr>\n",
       "<tr>\n",
       "  <th>Skew:</th>           <td>17.393</td>   <th>  Prob(JB):          </th>   <td>    0.00</td>   \n",
       "</tr>\n",
       "<tr>\n",
       "  <th>Kurtosis:</th>       <td>606.162</td>  <th>  Cond. No.          </th>   <td>    2.94</td>   \n",
       "</tr>\n",
       "</table><br/><br/>Warnings:<br/>[1] Standard Errors assume that the covariance matrix of the errors is correctly specified."
      ],
      "text/plain": [
       "<class 'statsmodels.iolib.summary.Summary'>\n",
       "\"\"\"\n",
       "                            OLS Regression Results                            \n",
       "==============================================================================\n",
       "Dep. Variable:           Global_Sales   R-squared:                       0.000\n",
       "Model:                            OLS   Adj. R-squared:                  0.000\n",
       "Method:                 Least Squares   F-statistic:                     1.009\n",
       "Date:                Fri, 06 Dec 2019   Prob (F-statistic):              0.315\n",
       "Time:                        20:47:12   Log-Likelihood:                -30878.\n",
       "No. Observations:               16598   AIC:                         6.176e+04\n",
       "Df Residuals:                   16596   BIC:                         6.178e+04\n",
       "Df Model:                           1                                         \n",
       "Covariance Type:            nonrobust                                         \n",
       "========================================================================================\n",
       "                           coef    std err          t      P>|t|      [0.025      0.975]\n",
       "----------------------------------------------------------------------------------------\n",
       "Intercept                0.5325      0.013     40.883      0.000       0.507       0.558\n",
       "C(Genre_Sports)[T.1]     0.0348      0.035      1.004      0.315      -0.033       0.103\n",
       "==============================================================================\n",
       "Omnibus:                    34430.086   Durbin-Watson:                   0.046\n",
       "Prob(Omnibus):                  0.000   Jarque-Bera (JB):        252438271.988\n",
       "Skew:                          17.393   Prob(JB):                         0.00\n",
       "Kurtosis:                     606.162   Cond. No.                         2.94\n",
       "==============================================================================\n",
       "\n",
       "Warnings:\n",
       "[1] Standard Errors assume that the covariance matrix of the errors is correctly specified.\n",
       "\"\"\""
      ]
     },
     "execution_count": 54,
     "metadata": {},
     "output_type": "execute_result"
    }
   ],
   "source": [
    "multipleReg1 = smf.ols(formula='Global_Sales~C(Genre_Sports)', data=primaryDF).fit()\n",
    "multipleReg1.summary()\n",
    "\n"
   ]
  },
  {
   "cell_type": "code",
   "execution_count": 55,
   "metadata": {},
   "outputs": [
    {
     "data": {
      "text/plain": [
       "0     0.567319\n",
       "1     0.532522\n",
       "2     0.532522\n",
       "3     0.567319\n",
       "4     0.532522\n",
       "5     0.532522\n",
       "6     0.532522\n",
       "7     0.532522\n",
       "8     0.532522\n",
       "9     0.532522\n",
       "10    0.532522\n",
       "11    0.532522\n",
       "12    0.532522\n",
       "13    0.567319\n",
       "14    0.567319\n",
       "15    0.532522\n",
       "16    0.532522\n",
       "17    0.532522\n",
       "18    0.532522\n",
       "19    0.532522\n",
       "dtype: float64"
      ]
     },
     "execution_count": 55,
     "metadata": {},
     "output_type": "execute_result"
    }
   ],
   "source": [
    "#Everywhere in the prediction chart that 0.567319 appears, the genre is sports.\n",
    "#Non sports games are marked as 0.532522\n",
    "sales_pred1 = multipleReg1.predict(primaryDF['Genre_Sports'])\n",
    "sales_pred1.head(20)"
   ]
  },
  {
   "cell_type": "code",
   "execution_count": 56,
   "metadata": {},
   "outputs": [
    {
     "data": {
      "text/html": [
       "<table class=\"simpletable\">\n",
       "<caption>OLS Regression Results</caption>\n",
       "<tr>\n",
       "  <th>Dep. Variable:</th>      <td>Global_Sales</td>   <th>  R-squared:         </th> <td>   0.004</td> \n",
       "</tr>\n",
       "<tr>\n",
       "  <th>Model:</th>                   <td>OLS</td>       <th>  Adj. R-squared:    </th> <td>   0.004</td> \n",
       "</tr>\n",
       "<tr>\n",
       "  <th>Method:</th>             <td>Least Squares</td>  <th>  F-statistic:       </th> <td>   62.44</td> \n",
       "</tr>\n",
       "<tr>\n",
       "  <th>Date:</th>             <td>Fri, 06 Dec 2019</td> <th>  Prob (F-statistic):</th> <td>2.92e-15</td> \n",
       "</tr>\n",
       "<tr>\n",
       "  <th>Time:</th>                 <td>20:47:20</td>     <th>  Log-Likelihood:    </th> <td> -30848.</td> \n",
       "</tr>\n",
       "<tr>\n",
       "  <th>No. Observations:</th>      <td> 16598</td>      <th>  AIC:               </th> <td>6.170e+04</td>\n",
       "</tr>\n",
       "<tr>\n",
       "  <th>Df Residuals:</th>          <td> 16596</td>      <th>  BIC:               </th> <td>6.172e+04</td>\n",
       "</tr>\n",
       "<tr>\n",
       "  <th>Df Model:</th>              <td>     1</td>      <th>                     </th>     <td> </td>    \n",
       "</tr>\n",
       "<tr>\n",
       "  <th>Covariance Type:</th>      <td>nonrobust</td>    <th>                     </th>     <td> </td>    \n",
       "</tr>\n",
       "</table>\n",
       "<table class=\"simpletable\">\n",
       "<tr>\n",
       "             <td></td>               <th>coef</th>     <th>std err</th>      <th>t</th>      <th>P>|t|</th>  <th>[0.025</th>    <th>0.975]</th>  \n",
       "</tr>\n",
       "<tr>\n",
       "  <th>Intercept</th>              <td>    0.5148</td> <td>    0.012</td> <td>   41.576</td> <td> 0.000</td> <td>    0.491</td> <td>    0.539</td>\n",
       "</tr>\n",
       "<tr>\n",
       "  <th>C(Genre_Platform)[T.1]</th> <td>    0.4235</td> <td>    0.054</td> <td>    7.902</td> <td> 0.000</td> <td>    0.318</td> <td>    0.529</td>\n",
       "</tr>\n",
       "</table>\n",
       "<table class=\"simpletable\">\n",
       "<tr>\n",
       "  <th>Omnibus:</th>       <td>34456.021</td> <th>  Durbin-Watson:     </th>   <td>   0.055</td>   \n",
       "</tr>\n",
       "<tr>\n",
       "  <th>Prob(Omnibus):</th>  <td> 0.000</td>   <th>  Jarque-Bera (JB):  </th> <td>255599668.082</td>\n",
       "</tr>\n",
       "<tr>\n",
       "  <th>Skew:</th>           <td>17.419</td>   <th>  Prob(JB):          </th>   <td>    0.00</td>   \n",
       "</tr>\n",
       "<tr>\n",
       "  <th>Kurtosis:</th>       <td>609.937</td>  <th>  Cond. No.          </th>   <td>    4.46</td>   \n",
       "</tr>\n",
       "</table><br/><br/>Warnings:<br/>[1] Standard Errors assume that the covariance matrix of the errors is correctly specified."
      ],
      "text/plain": [
       "<class 'statsmodels.iolib.summary.Summary'>\n",
       "\"\"\"\n",
       "                            OLS Regression Results                            \n",
       "==============================================================================\n",
       "Dep. Variable:           Global_Sales   R-squared:                       0.004\n",
       "Model:                            OLS   Adj. R-squared:                  0.004\n",
       "Method:                 Least Squares   F-statistic:                     62.44\n",
       "Date:                Fri, 06 Dec 2019   Prob (F-statistic):           2.92e-15\n",
       "Time:                        20:47:20   Log-Likelihood:                -30848.\n",
       "No. Observations:               16598   AIC:                         6.170e+04\n",
       "Df Residuals:                   16596   BIC:                         6.172e+04\n",
       "Df Model:                           1                                         \n",
       "Covariance Type:            nonrobust                                         \n",
       "==========================================================================================\n",
       "                             coef    std err          t      P>|t|      [0.025      0.975]\n",
       "------------------------------------------------------------------------------------------\n",
       "Intercept                  0.5148      0.012     41.576      0.000       0.491       0.539\n",
       "C(Genre_Platform)[T.1]     0.4235      0.054      7.902      0.000       0.318       0.529\n",
       "==============================================================================\n",
       "Omnibus:                    34456.021   Durbin-Watson:                   0.055\n",
       "Prob(Omnibus):                  0.000   Jarque-Bera (JB):        255599668.082\n",
       "Skew:                          17.419   Prob(JB):                         0.00\n",
       "Kurtosis:                     609.937   Cond. No.                         4.46\n",
       "==============================================================================\n",
       "\n",
       "Warnings:\n",
       "[1] Standard Errors assume that the covariance matrix of the errors is correctly specified.\n",
       "\"\"\""
      ]
     },
     "execution_count": 56,
     "metadata": {},
     "output_type": "execute_result"
    }
   ],
   "source": [
    "multipleReg2 = smf.ols(formula='Global_Sales~C(Genre_Platform)', data=primaryDF).fit()\n",
    "multipleReg2.summary()\n",
    "\n"
   ]
  },
  {
   "cell_type": "code",
   "execution_count": 57,
   "metadata": {},
   "outputs": [
    {
     "data": {
      "text/plain": [
       "0     0.514834\n",
       "1     0.938341\n",
       "2     0.514834\n",
       "3     0.514834\n",
       "4     0.514834\n",
       "5     0.514834\n",
       "6     0.938341\n",
       "7     0.514834\n",
       "8     0.938341\n",
       "9     0.514834\n",
       "10    0.514834\n",
       "11    0.514834\n",
       "12    0.514834\n",
       "13    0.514834\n",
       "14    0.514834\n",
       "15    0.514834\n",
       "16    0.514834\n",
       "17    0.514834\n",
       "18    0.938341\n",
       "19    0.514834\n",
       "dtype: float64"
      ]
     },
     "execution_count": 57,
     "metadata": {},
     "output_type": "execute_result"
    }
   ],
   "source": [
    "#Everywhere in the prediction chart that 0.938341 appears, the genre is Platforming.\n",
    "#Non platforming games are predicted as 0.514834\n",
    "sales_pred2 = multipleReg2.predict(primaryDF['Genre_Platform'])\n",
    "sales_pred2.head(20)"
   ]
  },
  {
   "cell_type": "code",
   "execution_count": 58,
   "metadata": {},
   "outputs": [
    {
     "data": {
      "text/html": [
       "<table class=\"simpletable\">\n",
       "<caption>OLS Regression Results</caption>\n",
       "<tr>\n",
       "  <th>Dep. Variable:</th>      <td>Global_Sales</td>   <th>  R-squared:         </th> <td>   0.004</td> \n",
       "</tr>\n",
       "<tr>\n",
       "  <th>Model:</th>                   <td>OLS</td>       <th>  Adj. R-squared:    </th> <td>   0.004</td> \n",
       "</tr>\n",
       "<tr>\n",
       "  <th>Method:</th>             <td>Least Squares</td>  <th>  F-statistic:       </th> <td>   32.65</td> \n",
       "</tr>\n",
       "<tr>\n",
       "  <th>Date:</th>             <td>Fri, 06 Dec 2019</td> <th>  Prob (F-statistic):</th> <td>7.02e-15</td> \n",
       "</tr>\n",
       "<tr>\n",
       "  <th>Time:</th>                 <td>20:47:26</td>     <th>  Log-Likelihood:    </th> <td> -30846.</td> \n",
       "</tr>\n",
       "<tr>\n",
       "  <th>No. Observations:</th>      <td> 16598</td>      <th>  AIC:               </th> <td>6.170e+04</td>\n",
       "</tr>\n",
       "<tr>\n",
       "  <th>Df Residuals:</th>          <td> 16595</td>      <th>  BIC:               </th> <td>6.172e+04</td>\n",
       "</tr>\n",
       "<tr>\n",
       "  <th>Df Model:</th>              <td>     2</td>      <th>                     </th>     <td> </td>    \n",
       "</tr>\n",
       "<tr>\n",
       "  <th>Covariance Type:</th>      <td>nonrobust</td>    <th>                     </th>     <td> </td>    \n",
       "</tr>\n",
       "</table>\n",
       "<table class=\"simpletable\">\n",
       "<tr>\n",
       "             <td></td>               <th>coef</th>     <th>std err</th>      <th>t</th>      <th>P>|t|</th>  <th>[0.025</th>    <th>0.975]</th>  \n",
       "</tr>\n",
       "<tr>\n",
       "  <th>Intercept</th>              <td>    0.5087</td> <td>    0.013</td> <td>   39.415</td> <td> 0.000</td> <td>    0.483</td> <td>    0.534</td>\n",
       "</tr>\n",
       "<tr>\n",
       "  <th>C(Genre_Platform)[T.1]</th> <td>    0.4297</td> <td>    0.054</td> <td>    7.999</td> <td> 0.000</td> <td>    0.324</td> <td>    0.535</td>\n",
       "</tr>\n",
       "<tr>\n",
       "  <th>C(Genre_Racing)[T.1]</th>   <td>    0.0774</td> <td>    0.046</td> <td>    1.691</td> <td> 0.091</td> <td>   -0.012</td> <td>    0.167</td>\n",
       "</tr>\n",
       "</table>\n",
       "<table class=\"simpletable\">\n",
       "<tr>\n",
       "  <th>Omnibus:</th>       <td>34457.711</td> <th>  Durbin-Watson:     </th>   <td>   0.055</td>   \n",
       "</tr>\n",
       "<tr>\n",
       "  <th>Prob(Omnibus):</th>  <td> 0.000</td>   <th>  Jarque-Bera (JB):  </th> <td>255795432.000</td>\n",
       "</tr>\n",
       "<tr>\n",
       "  <th>Skew:</th>           <td>17.421</td>   <th>  Prob(JB):          </th>   <td>    0.00</td>   \n",
       "</tr>\n",
       "<tr>\n",
       "  <th>Kurtosis:</th>       <td>610.170</td>  <th>  Cond. No.          </th>   <td>    4.52</td>   \n",
       "</tr>\n",
       "</table><br/><br/>Warnings:<br/>[1] Standard Errors assume that the covariance matrix of the errors is correctly specified."
      ],
      "text/plain": [
       "<class 'statsmodels.iolib.summary.Summary'>\n",
       "\"\"\"\n",
       "                            OLS Regression Results                            \n",
       "==============================================================================\n",
       "Dep. Variable:           Global_Sales   R-squared:                       0.004\n",
       "Model:                            OLS   Adj. R-squared:                  0.004\n",
       "Method:                 Least Squares   F-statistic:                     32.65\n",
       "Date:                Fri, 06 Dec 2019   Prob (F-statistic):           7.02e-15\n",
       "Time:                        20:47:26   Log-Likelihood:                -30846.\n",
       "No. Observations:               16598   AIC:                         6.170e+04\n",
       "Df Residuals:                   16595   BIC:                         6.172e+04\n",
       "Df Model:                           2                                         \n",
       "Covariance Type:            nonrobust                                         \n",
       "==========================================================================================\n",
       "                             coef    std err          t      P>|t|      [0.025      0.975]\n",
       "------------------------------------------------------------------------------------------\n",
       "Intercept                  0.5087      0.013     39.415      0.000       0.483       0.534\n",
       "C(Genre_Platform)[T.1]     0.4297      0.054      7.999      0.000       0.324       0.535\n",
       "C(Genre_Racing)[T.1]       0.0774      0.046      1.691      0.091      -0.012       0.167\n",
       "==============================================================================\n",
       "Omnibus:                    34457.711   Durbin-Watson:                   0.055\n",
       "Prob(Omnibus):                  0.000   Jarque-Bera (JB):        255795432.000\n",
       "Skew:                          17.421   Prob(JB):                         0.00\n",
       "Kurtosis:                     610.170   Cond. No.                         4.52\n",
       "==============================================================================\n",
       "\n",
       "Warnings:\n",
       "[1] Standard Errors assume that the covariance matrix of the errors is correctly specified.\n",
       "\"\"\""
      ]
     },
     "execution_count": 58,
     "metadata": {},
     "output_type": "execute_result"
    }
   ],
   "source": [
    "multipleReg3 = smf.ols(formula='Global_Sales~C(Genre_Platform) + C(Genre_Racing)', data=primaryDF).fit()\n",
    "multipleReg3.summary()\n"
   ]
  },
  {
   "cell_type": "code",
   "execution_count": 59,
   "metadata": {},
   "outputs": [
    {
     "data": {
      "text/plain": [
       "0     0.508679\n",
       "1     0.938341\n",
       "2     0.586101\n",
       "3     0.508679\n",
       "4     0.508679\n",
       "5     0.508679\n",
       "6     0.938341\n",
       "7     0.508679\n",
       "8     0.938341\n",
       "9     0.508679\n",
       "10    0.508679\n",
       "11    0.586101\n",
       "12    0.508679\n",
       "13    0.508679\n",
       "14    0.508679\n",
       "15    0.508679\n",
       "16    0.508679\n",
       "17    0.508679\n",
       "18    0.938341\n",
       "19    0.508679\n",
       "dtype: float64"
      ]
     },
     "execution_count": 59,
     "metadata": {},
     "output_type": "execute_result"
    }
   ],
   "source": [
    "#Everywhere in the prediction chart that 0.938341 appears, the genre is Platforming\n",
    "#Everywhere in the prediction chart that 0.585101 appears, the genre is Racing\n",
    "#Non Platforming or Racing games are marked as 0.532522\n",
    "sales_pred3 = multipleReg3.predict(primaryDF[['Genre_Platform', 'Genre_Racing']])\n",
    "sales_pred3.head(20)"
   ]
  },
  {
   "cell_type": "code",
   "execution_count": 60,
   "metadata": {},
   "outputs": [
    {
     "data": {
      "text/html": [
       "<table class=\"simpletable\">\n",
       "<caption>OLS Regression Results</caption>\n",
       "<tr>\n",
       "  <th>Dep. Variable:</th>      <td>Global_Sales</td>   <th>  R-squared:         </th> <td>   0.012</td> \n",
       "</tr>\n",
       "<tr>\n",
       "  <th>Model:</th>                   <td>OLS</td>       <th>  Adj. R-squared:    </th> <td>   0.011</td> \n",
       "</tr>\n",
       "<tr>\n",
       "  <th>Method:</th>             <td>Least Squares</td>  <th>  F-statistic:       </th> <td>   18.22</td> \n",
       "</tr>\n",
       "<tr>\n",
       "  <th>Date:</th>             <td>Fri, 06 Dec 2019</td> <th>  Prob (F-statistic):</th> <td>1.06e-36</td> \n",
       "</tr>\n",
       "<tr>\n",
       "  <th>Time:</th>                 <td>20:47:29</td>     <th>  Log-Likelihood:    </th> <td> -30779.</td> \n",
       "</tr>\n",
       "<tr>\n",
       "  <th>No. Observations:</th>      <td> 16598</td>      <th>  AIC:               </th> <td>6.158e+04</td>\n",
       "</tr>\n",
       "<tr>\n",
       "  <th>Df Residuals:</th>          <td> 16586</td>      <th>  BIC:               </th> <td>6.168e+04</td>\n",
       "</tr>\n",
       "<tr>\n",
       "  <th>Df Model:</th>              <td>    11</td>      <th>                     </th>     <td> </td>    \n",
       "</tr>\n",
       "<tr>\n",
       "  <th>Covariance Type:</th>      <td>nonrobust</td>    <th>                     </th>     <td> </td>    \n",
       "</tr>\n",
       "</table>\n",
       "<table class=\"simpletable\">\n",
       "<tr>\n",
       "              <td></td>                <th>coef</th>     <th>std err</th>      <th>t</th>      <th>P>|t|</th>  <th>[0.025</th>    <th>0.975]</th>  \n",
       "</tr>\n",
       "<tr>\n",
       "  <th>Intercept</th>                <td>    0.6232</td> <td>    0.040</td> <td>   15.548</td> <td> 0.000</td> <td>    0.545</td> <td>    0.702</td>\n",
       "</tr>\n",
       "<tr>\n",
       "  <th>C(Genre_Sports)[T.1]</th>     <td>   -0.0559</td> <td>    0.051</td> <td>   -1.091</td> <td> 0.275</td> <td>   -0.156</td> <td>    0.045</td>\n",
       "</tr>\n",
       "<tr>\n",
       "  <th>C(Genre_Platform)[T.1]</th>   <td>    0.3151</td> <td>    0.066</td> <td>    4.802</td> <td> 0.000</td> <td>    0.186</td> <td>    0.444</td>\n",
       "</tr>\n",
       "<tr>\n",
       "  <th>C(Genre_Racing)[T.1]</th>     <td>   -0.0371</td> <td>    0.059</td> <td>   -0.626</td> <td> 0.531</td> <td>   -0.153</td> <td>    0.079</td>\n",
       "</tr>\n",
       "<tr>\n",
       "  <th>C(Genre_Puzzle)[T.1]</th>     <td>   -0.2024</td> <td>    0.076</td> <td>   -2.677</td> <td> 0.007</td> <td>   -0.351</td> <td>   -0.054</td>\n",
       "</tr>\n",
       "<tr>\n",
       "  <th>C(Genre_Simulation)[T.1]</th> <td>   -0.1709</td> <td>    0.066</td> <td>   -2.586</td> <td> 0.010</td> <td>   -0.300</td> <td>   -0.041</td>\n",
       "</tr>\n",
       "<tr>\n",
       "  <th>C(Genre_Shooter)[T.1]</th>    <td>    0.1687</td> <td>    0.059</td> <td>    2.879</td> <td> 0.004</td> <td>    0.054</td> <td>    0.283</td>\n",
       "</tr>\n",
       "<tr>\n",
       "  <th>C(Genre_Action)[T.1]</th>     <td>   -0.0951</td> <td>    0.048</td> <td>   -1.972</td> <td> 0.049</td> <td>   -0.190</td> <td>   -0.001</td>\n",
       "</tr>\n",
       "<tr>\n",
       "  <th>C(Genre_Fighting)[T.1]</th>   <td>   -0.0939</td> <td>    0.067</td> <td>   -1.411</td> <td> 0.158</td> <td>   -0.224</td> <td>    0.037</td>\n",
       "</tr>\n",
       "<tr>\n",
       "  <th>C(Genre_Misc)[T.1]</th>       <td>   -0.1575</td> <td>    0.055</td> <td>   -2.884</td> <td> 0.004</td> <td>   -0.264</td> <td>   -0.050</td>\n",
       "</tr>\n",
       "<tr>\n",
       "  <th>C(Genre_Strategy)[T.1]</th>   <td>   -0.3661</td> <td>    0.072</td> <td>   -5.117</td> <td> 0.000</td> <td>   -0.506</td> <td>   -0.226</td>\n",
       "</tr>\n",
       "<tr>\n",
       "  <th>C(Genre_Adventure)[T.1]</th>  <td>   -0.4374</td> <td>    0.059</td> <td>   -7.429</td> <td> 0.000</td> <td>   -0.553</td> <td>   -0.322</td>\n",
       "</tr>\n",
       "</table>\n",
       "<table class=\"simpletable\">\n",
       "<tr>\n",
       "  <th>Omnibus:</th>       <td>34561.613</td> <th>  Durbin-Watson:     </th>   <td>   0.071</td>   \n",
       "</tr>\n",
       "<tr>\n",
       "  <th>Prob(Omnibus):</th>  <td> 0.000</td>   <th>  Jarque-Bera (JB):  </th> <td>262319759.695</td>\n",
       "</tr>\n",
       "<tr>\n",
       "  <th>Skew:</th>           <td>17.538</td>   <th>  Prob(JB):          </th>   <td>    0.00</td>   \n",
       "</tr>\n",
       "<tr>\n",
       "  <th>Kurtosis:</th>       <td>617.876</td>  <th>  Cond. No.          </th>   <td>    12.8</td>   \n",
       "</tr>\n",
       "</table><br/><br/>Warnings:<br/>[1] Standard Errors assume that the covariance matrix of the errors is correctly specified."
      ],
      "text/plain": [
       "<class 'statsmodels.iolib.summary.Summary'>\n",
       "\"\"\"\n",
       "                            OLS Regression Results                            \n",
       "==============================================================================\n",
       "Dep. Variable:           Global_Sales   R-squared:                       0.012\n",
       "Model:                            OLS   Adj. R-squared:                  0.011\n",
       "Method:                 Least Squares   F-statistic:                     18.22\n",
       "Date:                Fri, 06 Dec 2019   Prob (F-statistic):           1.06e-36\n",
       "Time:                        20:47:29   Log-Likelihood:                -30779.\n",
       "No. Observations:               16598   AIC:                         6.158e+04\n",
       "Df Residuals:                   16586   BIC:                         6.168e+04\n",
       "Df Model:                          11                                         \n",
       "Covariance Type:            nonrobust                                         \n",
       "============================================================================================\n",
       "                               coef    std err          t      P>|t|      [0.025      0.975]\n",
       "--------------------------------------------------------------------------------------------\n",
       "Intercept                    0.6232      0.040     15.548      0.000       0.545       0.702\n",
       "C(Genre_Sports)[T.1]        -0.0559      0.051     -1.091      0.275      -0.156       0.045\n",
       "C(Genre_Platform)[T.1]       0.3151      0.066      4.802      0.000       0.186       0.444\n",
       "C(Genre_Racing)[T.1]        -0.0371      0.059     -0.626      0.531      -0.153       0.079\n",
       "C(Genre_Puzzle)[T.1]        -0.2024      0.076     -2.677      0.007      -0.351      -0.054\n",
       "C(Genre_Simulation)[T.1]    -0.1709      0.066     -2.586      0.010      -0.300      -0.041\n",
       "C(Genre_Shooter)[T.1]        0.1687      0.059      2.879      0.004       0.054       0.283\n",
       "C(Genre_Action)[T.1]        -0.0951      0.048     -1.972      0.049      -0.190      -0.001\n",
       "C(Genre_Fighting)[T.1]      -0.0939      0.067     -1.411      0.158      -0.224       0.037\n",
       "C(Genre_Misc)[T.1]          -0.1575      0.055     -2.884      0.004      -0.264      -0.050\n",
       "C(Genre_Strategy)[T.1]      -0.3661      0.072     -5.117      0.000      -0.506      -0.226\n",
       "C(Genre_Adventure)[T.1]     -0.4374      0.059     -7.429      0.000      -0.553      -0.322\n",
       "==============================================================================\n",
       "Omnibus:                    34561.613   Durbin-Watson:                   0.071\n",
       "Prob(Omnibus):                  0.000   Jarque-Bera (JB):        262319759.695\n",
       "Skew:                          17.538   Prob(JB):                         0.00\n",
       "Kurtosis:                     617.876   Cond. No.                         12.8\n",
       "==============================================================================\n",
       "\n",
       "Warnings:\n",
       "[1] Standard Errors assume that the covariance matrix of the errors is correctly specified.\n",
       "\"\"\""
      ]
     },
     "execution_count": 60,
     "metadata": {},
     "output_type": "execute_result"
    }
   ],
   "source": [
    "multipleReg4 = smf.ols(formula='Global_Sales~C(Genre_Sports) + C(Genre_Platform) + C(Genre_Racing) + C(Genre_Puzzle) + C(Genre_Simulation) + C(Genre_Shooter) + C(Genre_Action) + C(Genre_Fighting) + C(Genre_Misc) + C(Genre_Strategy) + C(Genre_Adventure)', data=primaryDF).fit()\n",
    "multipleReg4.summary()\n"
   ]
  },
  {
   "cell_type": "code",
   "execution_count": 61,
   "metadata": {},
   "outputs": [
    {
     "data": {
      "text/plain": [
       "0     0.567319\n",
       "1     0.938341\n",
       "2     0.586101\n",
       "3     0.567319\n",
       "4     0.623233\n",
       "5     0.420876\n",
       "6     0.938341\n",
       "7     0.465762\n",
       "8     0.938341\n",
       "9     0.791885\n",
       "10    0.452364\n",
       "11    0.586101\n",
       "12    0.623233\n",
       "13    0.567319\n",
       "14    0.567319\n",
       "15    0.465762\n",
       "16    0.528100\n",
       "17    0.528100\n",
       "18    0.938341\n",
       "19    0.465762\n",
       "dtype: float64"
      ]
     },
     "execution_count": 61,
     "metadata": {},
     "output_type": "execute_result"
    }
   ],
   "source": [
    "sales_pred4 = multipleReg4.predict(primaryDF[['Genre_Sports','Genre_Platform', 'Genre_Racing', 'Genre_Puzzle', 'Genre_Simulation', 'Genre_Shooter','Genre_Action','Genre_Fighting', 'Genre_Misc', 'Genre_Strategy', 'Genre_Adventure']])\n",
    "sales_pred4.head(20)"
   ]
  },
  {
   "cell_type": "markdown",
   "metadata": {},
   "source": [
    "### Validating Model"
   ]
  },
  {
   "cell_type": "code",
   "execution_count": 65,
   "metadata": {},
   "outputs": [],
   "source": [
    "#Validating the model using the training and testing data composed earlier\n",
    "validRegr = smf.ols(formula='Global_Sales~C(Genre_Platform) + C(Genre_Racing)', data=xtrain).fit()"
   ]
  },
  {
   "cell_type": "code",
   "execution_count": 66,
   "metadata": {},
   "outputs": [],
   "source": [
    "validPred = validRegr.predict(xtest[['Genre_Platform','Genre_Racing']])\n"
   ]
  },
  {
   "cell_type": "markdown",
   "metadata": {
    "collapsed": true
   },
   "source": [
    "## 6. Results/Data/Findings <a class=\"anchor\" id=\"Results\"></a>\n"
   ]
  },
  {
   "cell_type": "code",
   "execution_count": 69,
   "metadata": {},
   "outputs": [
    {
     "data": {
      "text/html": [
       "<table class=\"simpletable\">\n",
       "<caption>OLS Regression Results</caption>\n",
       "<tr>\n",
       "  <th>Dep. Variable:</th>      <td>Global_Sales</td>   <th>  R-squared:         </th> <td>   0.006</td> \n",
       "</tr>\n",
       "<tr>\n",
       "  <th>Model:</th>                   <td>OLS</td>       <th>  Adj. R-squared:    </th> <td>   0.005</td> \n",
       "</tr>\n",
       "<tr>\n",
       "  <th>Method:</th>             <td>Least Squares</td>  <th>  F-statistic:       </th> <td>   31.20</td> \n",
       "</tr>\n",
       "<tr>\n",
       "  <th>Date:</th>             <td>Fri, 06 Dec 2019</td> <th>  Prob (F-statistic):</th> <td>3.07e-14</td> \n",
       "</tr>\n",
       "<tr>\n",
       "  <th>Time:</th>                 <td>21:31:30</td>     <th>  Log-Likelihood:    </th> <td> -19873.</td> \n",
       "</tr>\n",
       "<tr>\n",
       "  <th>No. Observations:</th>      <td> 11120</td>      <th>  AIC:               </th> <td>3.975e+04</td>\n",
       "</tr>\n",
       "<tr>\n",
       "  <th>Df Residuals:</th>          <td> 11117</td>      <th>  BIC:               </th> <td>3.977e+04</td>\n",
       "</tr>\n",
       "<tr>\n",
       "  <th>Df Model:</th>              <td>     2</td>      <th>                     </th>     <td> </td>    \n",
       "</tr>\n",
       "<tr>\n",
       "  <th>Covariance Type:</th>      <td>nonrobust</td>    <th>                     </th>     <td> </td>    \n",
       "</tr>\n",
       "</table>\n",
       "<table class=\"simpletable\">\n",
       "<tr>\n",
       "             <td></td>               <th>coef</th>     <th>std err</th>      <th>t</th>      <th>P>|t|</th>  <th>[0.025</th>    <th>0.975]</th>  \n",
       "</tr>\n",
       "<tr>\n",
       "  <th>Intercept</th>              <td>    0.4975</td> <td>    0.015</td> <td>   33.883</td> <td> 0.000</td> <td>    0.469</td> <td>    0.526</td>\n",
       "</tr>\n",
       "<tr>\n",
       "  <th>C(Genre_Platform)[T.1]</th> <td>    0.4628</td> <td>    0.061</td> <td>    7.593</td> <td> 0.000</td> <td>    0.343</td> <td>    0.582</td>\n",
       "</tr>\n",
       "<tr>\n",
       "  <th>C(Genre_Racing)[T.1]</th>   <td>    0.1402</td> <td>    0.052</td> <td>    2.688</td> <td> 0.007</td> <td>    0.038</td> <td>    0.242</td>\n",
       "</tr>\n",
       "</table>\n",
       "<table class=\"simpletable\">\n",
       "<tr>\n",
       "  <th>Omnibus:</th>       <td>18870.294</td> <th>  Durbin-Watson:     </th>   <td>   2.019</td>  \n",
       "</tr>\n",
       "<tr>\n",
       "  <th>Prob(Omnibus):</th>  <td> 0.000</td>   <th>  Jarque-Bera (JB):  </th> <td>19950225.749</td>\n",
       "</tr>\n",
       "<tr>\n",
       "  <th>Skew:</th>           <td>11.647</td>   <th>  Prob(JB):          </th>   <td>    0.00</td>  \n",
       "</tr>\n",
       "<tr>\n",
       "  <th>Kurtosis:</th>       <td>209.193</td>  <th>  Cond. No.          </th>   <td>    4.50</td>  \n",
       "</tr>\n",
       "</table><br/><br/>Warnings:<br/>[1] Standard Errors assume that the covariance matrix of the errors is correctly specified."
      ],
      "text/plain": [
       "<class 'statsmodels.iolib.summary.Summary'>\n",
       "\"\"\"\n",
       "                            OLS Regression Results                            \n",
       "==============================================================================\n",
       "Dep. Variable:           Global_Sales   R-squared:                       0.006\n",
       "Model:                            OLS   Adj. R-squared:                  0.005\n",
       "Method:                 Least Squares   F-statistic:                     31.20\n",
       "Date:                Fri, 06 Dec 2019   Prob (F-statistic):           3.07e-14\n",
       "Time:                        21:31:30   Log-Likelihood:                -19873.\n",
       "No. Observations:               11120   AIC:                         3.975e+04\n",
       "Df Residuals:                   11117   BIC:                         3.977e+04\n",
       "Df Model:                           2                                         \n",
       "Covariance Type:            nonrobust                                         \n",
       "==========================================================================================\n",
       "                             coef    std err          t      P>|t|      [0.025      0.975]\n",
       "------------------------------------------------------------------------------------------\n",
       "Intercept                  0.4975      0.015     33.883      0.000       0.469       0.526\n",
       "C(Genre_Platform)[T.1]     0.4628      0.061      7.593      0.000       0.343       0.582\n",
       "C(Genre_Racing)[T.1]       0.1402      0.052      2.688      0.007       0.038       0.242\n",
       "==============================================================================\n",
       "Omnibus:                    18870.294   Durbin-Watson:                   2.019\n",
       "Prob(Omnibus):                  0.000   Jarque-Bera (JB):         19950225.749\n",
       "Skew:                          11.647   Prob(JB):                         0.00\n",
       "Kurtosis:                     209.193   Cond. No.                         4.50\n",
       "==============================================================================\n",
       "\n",
       "Warnings:\n",
       "[1] Standard Errors assume that the covariance matrix of the errors is correctly specified.\n",
       "\"\"\""
      ]
     },
     "execution_count": 69,
     "metadata": {},
     "output_type": "execute_result"
    }
   ],
   "source": [
    "#validRegr represents the validation of the Regression model used which used the Testing Data and Training Data composed earlier\n",
    "validRegr.summary()"
   ]
  },
  {
   "cell_type": "code",
   "execution_count": 68,
   "metadata": {},
   "outputs": [
    {
     "data": {
      "text/plain": [
       "8928     0.637758\n",
       "4789     0.497535\n",
       "15492    0.497535\n",
       "14767    0.497535\n",
       "5211     0.497535\n",
       "720      0.960352\n",
       "4918     0.497535\n",
       "3107     0.497535\n",
       "7416     0.497535\n",
       "4447     0.497535\n",
       "2157     0.497535\n",
       "10762    0.497535\n",
       "12217    0.497535\n",
       "3421     0.497535\n",
       "11598    0.497535\n",
       "6945     0.637758\n",
       "9613     0.960352\n",
       "14478    0.497535\n",
       "10390    0.497535\n",
       "11298    0.637758\n",
       "dtype: float64"
      ]
     },
     "execution_count": 68,
     "metadata": {},
     "output_type": "execute_result"
    }
   ],
   "source": [
    "#The first 20 values of the prediction table\n",
    "validPred.head(20)"
   ]
  },
  {
   "cell_type": "markdown",
   "metadata": {},
   "source": [
    "# 6. Discussion <a class=\"anchor\" id=\"Discussion\"></a>\t\n",
    "\n",
    "\n"
   ]
  },
  {
   "attachments": {},
   "cell_type": "markdown",
   "metadata": {},
   "source": [
    "The goal of this report was to qualify the possibility that one could conclude an approximate prediction of a video game's potential sales based solely upon that game's genre. The conclusion I have come to is that genre alone is not sufficient for such a purpose. This analysis is drawn from the model created above.\n",
    "\n",
    "The results presented were different from initial expectations. They were surprisingly binary in nature, that is every prediction for every game in the testing data set was given the same projected sales number for it's corresponding genre. Initially I believed this was due to over-fitting, however upon a closer analysis it only made sense that the calculations, drawing from the regression of one contiguous sales format, would come to the same prediction for each new entry into that bracket.\n",
    "\n",
    "When compared with the results from the texts presented in the literature review, particularly in (Sacranie and Leekley, n.d., p.19), the results of the above model showed a much lower Adjusted R2 value (0.05 above to 0.122 in Sacranie's work) as well as a much more carefully adjusted F-Statistic for each category. This indicates a poor selection of variables on which the prediction can act and thus explains the poor quality of the given results.\n",
    "\n",
    "##### Solutions\n",
    "- A broader research question: Encapsulating year or developer as well to broaden the selection of variables the regression formula has to work on.\n",
    "- Diversifying genres to allow a game to have more than one genre: Expanding the selection of variables. Allowing a game to be both shooter AND simulation as we see in many military simulation games today, or platforming AND adventure which is a popular combination in the industry, could result in more substantial and individual results.\n",
    "- Improved implementation : The model above produced unusual and insubstantial results, but the few results given did correlate with my own expectations for the given genres based upon personal domain knowledge and the sales bar chart given above. This leads me to believe that improvements to the implementation of the model could see regression as a good fit for this category of data analytics.\n",
    "\n",
    "The discovery techniques could be considered successful as they lead me to several conclusions and a proper understanding of why the ultimate, overall application of the modelling failed. In a business context, this system may be useful very one dimensionally, as it would succesfully predict based on genre one singular release based upon each genre.\n"
   ]
  },
  {
   "cell_type": "markdown",
   "metadata": {},
   "source": [
    "# 7. Conclusion <a class=\"anchor\" id=\"Conclusion\"></a>\n",
    "\n",
    "In summation, it is extremely challenging yet not impossible to dictate the potential success of a video game based upon Genre alone. Further research into the possibility could be performed with methods other than Regression, or by utilizing one of the aforementioned solutions from the discussion section. Further improvements could be made on the model by allowing a narrower field for independent regions, such as North America or Europe, instead of exclusively relying on the Global sales statistic."
   ]
  },
  {
   "cell_type": "markdown",
   "metadata": {},
   "source": [
    "# 8. Reference List/Bibliography <a class=\"anchor\" id=\"Reference\"></a>\n",
    "\n",
    "Anon 2019. Entertainment Software Association | U.S. Economic Growth. [online] Available at: <https://www.theesa.com/industry/economic-growth/> [Accessed 6 Dec. 2019].\n",
    "Babb, J., n.d. COMPARING VIDEO GAME SALES BY GAMING PLATFORM.\n",
    "Gil, R. and Warzynski, 2009. Munich Personal RePEc Archive Vertical Integration, Exclusivity and Game Sales Performance in the U.S. Video Game Industry.\n",
    "Sacranie, J. and Leekley, R., n.d. Consumer Perceptions & Video Game Sales: A Meeting of the Minds\" (2010). Honors Projects. [online] Available at: <http://digitalcommons.iwu.edu/econ_honproj/108> [Accessed 6 Dec. 2019].\n",
    "\n"
   ]
  },
  {
   "cell_type": "markdown",
   "metadata": {},
   "source": [
    "# 9. Other Resources and Acknowledgements\n",
    "\n",
    "DataSet : https://www.kaggle.com/gregorut/videogamesales/data\n",
    "\n",
    "Further (online) information sources :\n",
    "\n",
    "Taken from Regression Section of course content.\n",
    "\n",
    "Information on pandas.get_dummies() - https://stackoverflow.com/questions/50733014/linear-regression-with-dummy-categorical-variables\n"
   ]
  }
 ],
 "metadata": {
  "kernelspec": {
   "display_name": "Python 3",
   "language": "python",
   "name": "python3"
  },
  "language_info": {
   "codemirror_mode": {
    "name": "ipython",
    "version": 3
   },
   "file_extension": ".py",
   "mimetype": "text/x-python",
   "name": "python",
   "nbconvert_exporter": "python",
   "pygments_lexer": "ipython3",
   "version": "3.7.4"
  }
 },
 "nbformat": 4,
 "nbformat_minor": 2
}
